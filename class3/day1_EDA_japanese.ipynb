{
  "cells": [
    {
      "cell_type": "markdown",
      "id": "bab25bb2",
      "metadata": {
        "id": "bab25bb2"
      },
      "source": [
        "# 日本語EDA（全文・全品詞）\n",
        "UDHR日本語版を対象に、品詞制限なしでトークン化し、英語EDAと同一の流れで解析します。"
      ]
    },
    {
      "cell_type": "markdown",
      "id": "93cae629",
      "metadata": {
        "id": "93cae629"
      },
      "source": [
        "## 1. セットアップ"
      ]
    },
    {
      "cell_type": "code",
      "source": [
        "!sudo apt install mecab\n",
        "!sudo apt install libmecab-dev\n",
        "!sudo apt install mecab-ipadic-utf8\n",
        "!sudo apt -q -y install swig\n"
      ],
      "metadata": {
        "colab": {
          "base_uri": "https://localhost:8080/"
        },
        "id": "pSPfY2dNgh3j",
        "outputId": "00add6e9-1a25-4cd5-e675-d949cbb7cb20"
      },
      "id": "pSPfY2dNgh3j",
      "execution_count": 1,
      "outputs": [
        {
          "output_type": "stream",
          "name": "stdout",
          "text": [
            "Reading package lists... Done\n",
            "Building dependency tree... Done\n",
            "Reading state information... Done\n",
            "mecab is already the newest version (0.996-14build9).\n",
            "0 upgraded, 0 newly installed, 0 to remove and 38 not upgraded.\n",
            "Reading package lists... Done\n",
            "Building dependency tree... Done\n",
            "Reading state information... Done\n",
            "libmecab-dev is already the newest version (0.996-14build9).\n",
            "0 upgraded, 0 newly installed, 0 to remove and 38 not upgraded.\n",
            "Reading package lists... Done\n",
            "Building dependency tree... Done\n",
            "Reading state information... Done\n",
            "mecab-ipadic-utf8 is already the newest version (2.7.0-20070801+main-3).\n",
            "0 upgraded, 0 newly installed, 0 to remove and 38 not upgraded.\n",
            "Reading package lists...\n",
            "Building dependency tree...\n",
            "Reading state information...\n",
            "The following additional packages will be installed:\n",
            "  swig4.0\n",
            "Suggested packages:\n",
            "  swig-doc swig-examples swig4.0-examples swig4.0-doc\n",
            "The following NEW packages will be installed:\n",
            "  swig swig4.0\n",
            "0 upgraded, 2 newly installed, 0 to remove and 38 not upgraded.\n",
            "Need to get 1,116 kB of archives.\n",
            "After this operation, 5,542 kB of additional disk space will be used.\n",
            "Get:1 http://archive.ubuntu.com/ubuntu jammy/universe amd64 swig4.0 amd64 4.0.2-1ubuntu1 [1,110 kB]\n",
            "Get:2 http://archive.ubuntu.com/ubuntu jammy/universe amd64 swig all 4.0.2-1ubuntu1 [5,632 B]\n",
            "Fetched 1,116 kB in 2s (534 kB/s)\n",
            "debconf: unable to initialize frontend: Dialog\n",
            "debconf: (No usable dialog-like program is installed, so the dialog based frontend cannot be used. at /usr/share/perl5/Debconf/FrontEnd/Dialog.pm line 78, <> line 2.)\n",
            "debconf: falling back to frontend: Readline\n",
            "debconf: unable to initialize frontend: Readline\n",
            "debconf: (This frontend requires a controlling tty.)\n",
            "debconf: falling back to frontend: Teletype\n",
            "dpkg-preconfigure: unable to re-open stdin: \n",
            "Selecting previously unselected package swig4.0.\n",
            "(Reading database ... 126845 files and directories currently installed.)\n",
            "Preparing to unpack .../swig4.0_4.0.2-1ubuntu1_amd64.deb ...\n",
            "Unpacking swig4.0 (4.0.2-1ubuntu1) ...\n",
            "Selecting previously unselected package swig.\n",
            "Preparing to unpack .../swig_4.0.2-1ubuntu1_all.deb ...\n",
            "Unpacking swig (4.0.2-1ubuntu1) ...\n",
            "Setting up swig4.0 (4.0.2-1ubuntu1) ...\n",
            "Setting up swig (4.0.2-1ubuntu1) ...\n",
            "Processing triggers for man-db (2.10.2-1) ...\n"
          ]
        }
      ]
    },
    {
      "cell_type": "code",
      "source": [
        "### 辞書を使える場所に移す\n",
        "!mv /etc/mecabrc /usr/local/etc/"
      ],
      "metadata": {
        "colab": {
          "base_uri": "https://localhost:8080/"
        },
        "id": "GjOUf8B_glic",
        "outputId": "e66e52c9-6963-4d4d-fe7d-b97a7a8243cd"
      },
      "id": "GjOUf8B_glic",
      "execution_count": 2,
      "outputs": [
        {
          "output_type": "stream",
          "name": "stdout",
          "text": [
            "mv: cannot stat '/etc/mecabrc': No such file or directory\n"
          ]
        }
      ]
    },
    {
      "cell_type": "code",
      "execution_count": 19,
      "id": "a4267000",
      "metadata": {
        "colab": {
          "base_uri": "https://localhost:8080/"
        },
        "id": "a4267000",
        "outputId": "918ed3c8-3cab-4974-8405-a04a2e1b23d4"
      },
      "outputs": [
        {
          "output_type": "stream",
          "name": "stderr",
          "text": [
            "[nltk_data] Downloading package udhr to /root/nltk_data...\n",
            "[nltk_data]   Package udhr is already up-to-date!\n"
          ]
        },
        {
          "output_type": "stream",
          "name": "stdout",
          "text": [
            "Requirement already satisfied: mecab-python3 in /usr/local/lib/python3.12/dist-packages (1.0.10)\n",
            "Requirement already satisfied: ipadic in /usr/local/lib/python3.12/dist-packages (1.0.0)\n",
            "E: Invalid operation installl\n",
            "環境準備完了\n"
          ]
        }
      ],
      "source": [
        "import nltk\n",
        "nltk.download(\"udhr\")\n",
        "\n",
        "from nltk.corpus import udhr\n",
        "import itertools\n",
        "from collections import Counter\n",
        "\n",
        "!pip install mecab-python3\n",
        "!pip install ipadic\n",
        "!apt-get installl mecab-ipadic-utf8\n",
        "# MeCab\n",
        "try:\n",
        "    import MeCab\n",
        "    MECAB_OK = True\n",
        "except Exception as e:\n",
        "    MECAB_OK = False\n",
        "    print(\"MeCabのインポートに失敗しました。: \", e)\n",
        "\n",
        "# matplotlib\n",
        "import matplotlib.pyplot as plt\n",
        "from matplotlib import rcParams\n",
        "\n",
        "# 日本語フォント\n",
        "rcParams['axes.unicode_minus'] = False\n",
        "# rcParams['font.family'] = 'Meiryo'  # Windows\n",
        "# rcParams['font.family'] = 'Hiragino Sans'  # macOS\n",
        "rcParams['font.family'] = 'Noto Sans CJK JP'  # Linux\n",
        "\n",
        "print(\"環境準備完了\")"
      ]
    },
    {
      "cell_type": "code",
      "source": [
        "import ipadic"
      ],
      "metadata": {
        "id": "DVufMC61uiPu"
      },
      "id": "DVufMC61uiPu",
      "execution_count": 20,
      "outputs": []
    },
    {
      "cell_type": "markdown",
      "id": "97adb9ec",
      "metadata": {
        "id": "97adb9ec"
      },
      "source": [
        "## 2. データ読み込み"
      ]
    },
    {
      "cell_type": "code",
      "execution_count": 22,
      "id": "6aaa3050",
      "metadata": {
        "colab": {
          "base_uri": "https://localhost:8080/"
        },
        "id": "6aaa3050",
        "outputId": "e9cd0906-9661-4e43-d793-54bad4f7e765"
      },
      "outputs": [
        {
          "output_type": "stream",
          "name": "stdout",
          "text": [
            "文書数: 49\n",
            "----- 先頭3文 ----\n",
            "[0] 『世界人権宣言』\n",
            " \n",
            "\n",
            "（1948.12.10 第３回国連総会採択）\n",
            "\n",
            " \n",
            "\n",
            "〈前文〉\n",
            "　\n",
            "人類社会のすべての構成員の固有の尊厳と平等で譲ることのできない権利とを承認することは、世界における自由、正義及び平和の基礎であるので、\n",
            "\n",
            "人権の無視及び軽侮が、人類の良心を踏みにじった野蛮行為をもたらし、言論及び信仰の自由が受けられ、恐怖及び欠乏のない世界の到来が、一般の人々の最高の願望として宣言されたので、　\n",
            "\n",
            "人間が専制と圧迫とに対する最後の手段として反逆に訴えることがないようにするためには、法の支配によって人権を保護することが肝要であるので、\n",
            "\n",
            "諸国間の友好関係の発展を促進することが肝要であるので、\n",
            "\n",
            "国際連合の諸国民は、国連憲章において、基本的人権、人間の尊厳及び価値並びに男女の同権についての信念を再確認し、かつ、一層大きな自由のうちで社会的進歩と生活水準の向上とを促進することを決意したので、 　\n",
            "\n",
            "加盟国は、国際連合と協力して、人権及び基本的自由の普遍的な尊重及び遵守の促進を達成することを誓約したので、 \n",
            "\n",
            "　\n",
            "これらの権利及び自由に対する共通の理解は、この誓約を完全にするためにもっとも重要であるので、 　\n",
            "\n",
            "\n",
            "よって、ここに、国連総会は、 　\n",
            "\n",
            "\n",
            "社会の各個人及び各機関が、この世界人権宣言を常に念頭に置きながら、加盟国自身の人民の間にも、また、加盟国の管轄下にある地域の人民の間にも、これらの権利と自由との尊重を指導及び教育によって促進すること並びにそれらの普遍的措置によって確保することに努力するように、すべての人民とすべての国とが達成すべき共通の基準として、この人権宣言を公布する。\n",
            "[1] 第１条\n",
            "すべての人間は、生まれながらにして自由であり、かつ、尊厳と権利と について平等である。\n",
            "[2] 人間は、理性と良心とを授けられており、互いに同 胞の精神をもって行動しなければならない。\n"
          ]
        }
      ],
      "source": [
        "# UDHR 日本語版を全文読み込み\n",
        "text = udhr.raw(\"Japanese_Nihongo-UTF8\")\n",
        "\n",
        "# 文単位に分割\n",
        "sentences = [s.strip() for s in text.split(\"。\") if s.strip()]\n",
        "docs = {i: (s + \"。\") for i, s in enumerate(sentences)}\n",
        "\n",
        "print(f\"文書数: {len(docs)}\")\n",
        "print(\"----- 先頭3文 ----\")\n",
        "for i in range(3):\n",
        "    print(f\"[{i}] {docs[i]}\")"
      ]
    },
    {
      "cell_type": "markdown",
      "id": "d5cba719",
      "metadata": {
        "id": "d5cba719"
      },
      "source": [
        "## 3. トークン化（品詞制限なし）"
      ]
    },
    {
      "cell_type": "code",
      "execution_count": 23,
      "id": "5a57549d",
      "metadata": {
        "colab": {
          "base_uri": "https://localhost:8080/"
        },
        "id": "5a57549d",
        "outputId": "054ff9ce-d147-4c5b-c21d-91b6ad0b0031"
      },
      "outputs": [
        {
          "output_type": "stream",
          "name": "stdout",
          "text": [
            "['『', '世界', '人権', '宣言', '』', '（', '1948', '.', '12', '.', '10', '第', '３', '回', '国連', '総会', '採択', '）', '〈', '前文', '〉', '\\u3000', '人類', '社会', 'の', 'すべて', 'の', '構成', '員', 'の']\n"
          ]
        }
      ],
      "source": [
        "if not MECAB_OK:\n",
        "    raise RuntimeError(\"MeCabが利用できません。インストールしてください。\")\n",
        "\n",
        "tagger = MeCab.Tagger(ipadic.MECAB_ARGS + \" -Ochasen\")\n",
        "\n",
        "def tokenize(text):\n",
        "    node = tagger.parseToNode(text)\n",
        "    tokens = []\n",
        "    while node:\n",
        "        surface = node.surface\n",
        "        if surface:  # 空でなければ追加\n",
        "            tokens.append(surface)\n",
        "        node = node.next\n",
        "    return tokens\n",
        "\n",
        "# 全文書をトークン化\n",
        "tokenized_docs = {i: tokenize(doc) for i, doc in docs.items()}\n",
        "print(tokenized_docs[0][:30])"
      ]
    },
    {
      "cell_type": "markdown",
      "id": "5a366b0a",
      "metadata": {
        "id": "5a366b0a"
      },
      "source": [
        "## 4. 文書長分布"
      ]
    },
    {
      "cell_type": "code",
      "execution_count": 24,
      "id": "5c70f7bd",
      "metadata": {
        "colab": {
          "base_uri": "https://localhost:8080/",
          "height": 1000
        },
        "id": "5c70f7bd",
        "outputId": "4dfeddb7-a676-4c1a-fd21-acc250c1f635"
      },
      "outputs": [
        {
          "output_type": "stream",
          "name": "stderr",
          "text": [
            "WARNING:matplotlib.font_manager:findfont: Font family 'Noto Sans CJK JP' not found.\n",
            "WARNING:matplotlib.font_manager:findfont: Font family 'Noto Sans CJK JP' not found.\n",
            "WARNING:matplotlib.font_manager:findfont: Font family 'Noto Sans CJK JP' not found.\n",
            "WARNING:matplotlib.font_manager:findfont: Font family 'Noto Sans CJK JP' not found.\n",
            "WARNING:matplotlib.font_manager:findfont: Font family 'Noto Sans CJK JP' not found.\n",
            "WARNING:matplotlib.font_manager:findfont: Font family 'Noto Sans CJK JP' not found.\n",
            "WARNING:matplotlib.font_manager:findfont: Font family 'Noto Sans CJK JP' not found.\n",
            "WARNING:matplotlib.font_manager:findfont: Font family 'Noto Sans CJK JP' not found.\n",
            "WARNING:matplotlib.font_manager:findfont: Font family 'Noto Sans CJK JP' not found.\n",
            "WARNING:matplotlib.font_manager:findfont: Font family 'Noto Sans CJK JP' not found.\n",
            "WARNING:matplotlib.font_manager:findfont: Font family 'Noto Sans CJK JP' not found.\n",
            "/tmp/ipython-input-416623118.py:11: UserWarning: Glyph 12488 (\\N{KATAKANA LETTER TO}) missing from font(s) DejaVu Sans.\n",
            "  plt.tight_layout()\n",
            "/tmp/ipython-input-416623118.py:11: UserWarning: Glyph 12540 (\\N{KATAKANA-HIRAGANA PROLONGED SOUND MARK}) missing from font(s) DejaVu Sans.\n",
            "  plt.tight_layout()\n",
            "/tmp/ipython-input-416623118.py:11: UserWarning: Glyph 12463 (\\N{KATAKANA LETTER KU}) missing from font(s) DejaVu Sans.\n",
            "  plt.tight_layout()\n",
            "/tmp/ipython-input-416623118.py:11: UserWarning: Glyph 12531 (\\N{KATAKANA LETTER N}) missing from font(s) DejaVu Sans.\n",
            "  plt.tight_layout()\n",
            "/tmp/ipython-input-416623118.py:11: UserWarning: Glyph 25968 (\\N{CJK UNIFIED IDEOGRAPH-6570}) missing from font(s) DejaVu Sans.\n",
            "  plt.tight_layout()\n",
            "WARNING:matplotlib.font_manager:findfont: Font family 'Noto Sans CJK JP' not found.\n",
            "WARNING:matplotlib.font_manager:findfont: Font family 'Noto Sans CJK JP' not found.\n",
            "WARNING:matplotlib.font_manager:findfont: Font family 'Noto Sans CJK JP' not found.\n",
            "WARNING:matplotlib.font_manager:findfont: Font family 'Noto Sans CJK JP' not found.\n",
            "WARNING:matplotlib.font_manager:findfont: Font family 'Noto Sans CJK JP' not found.\n",
            "WARNING:matplotlib.font_manager:findfont: Font family 'Noto Sans CJK JP' not found.\n",
            "WARNING:matplotlib.font_manager:findfont: Font family 'Noto Sans CJK JP' not found.\n",
            "/tmp/ipython-input-416623118.py:11: UserWarning: Glyph 38971 (\\N{CJK UNIFIED IDEOGRAPH-983B}) missing from font(s) DejaVu Sans.\n",
            "  plt.tight_layout()\n",
            "/tmp/ipython-input-416623118.py:11: UserWarning: Glyph 24230 (\\N{CJK UNIFIED IDEOGRAPH-5EA6}) missing from font(s) DejaVu Sans.\n",
            "  plt.tight_layout()\n",
            "WARNING:matplotlib.font_manager:findfont: Font family 'Noto Sans CJK JP' not found.\n",
            "WARNING:matplotlib.font_manager:findfont: Font family 'Noto Sans CJK JP' not found.\n",
            "/tmp/ipython-input-416623118.py:11: UserWarning: Glyph 25991 (\\N{CJK UNIFIED IDEOGRAPH-6587}) missing from font(s) DejaVu Sans.\n",
            "  plt.tight_layout()\n",
            "/tmp/ipython-input-416623118.py:11: UserWarning: Glyph 26360 (\\N{CJK UNIFIED IDEOGRAPH-66F8}) missing from font(s) DejaVu Sans.\n",
            "  plt.tight_layout()\n",
            "/tmp/ipython-input-416623118.py:11: UserWarning: Glyph 38263 (\\N{CJK UNIFIED IDEOGRAPH-9577}) missing from font(s) DejaVu Sans.\n",
            "  plt.tight_layout()\n",
            "/tmp/ipython-input-416623118.py:11: UserWarning: Glyph 12398 (\\N{HIRAGANA LETTER NO}) missing from font(s) DejaVu Sans.\n",
            "  plt.tight_layout()\n",
            "/tmp/ipython-input-416623118.py:11: UserWarning: Glyph 20998 (\\N{CJK UNIFIED IDEOGRAPH-5206}) missing from font(s) DejaVu Sans.\n",
            "  plt.tight_layout()\n",
            "/tmp/ipython-input-416623118.py:11: UserWarning: Glyph 24067 (\\N{CJK UNIFIED IDEOGRAPH-5E03}) missing from font(s) DejaVu Sans.\n",
            "  plt.tight_layout()\n",
            "WARNING:matplotlib.font_manager:findfont: Font family 'Noto Sans CJK JP' not found.\n",
            "WARNING:matplotlib.font_manager:findfont: Font family 'Noto Sans CJK JP' not found.\n",
            "WARNING:matplotlib.font_manager:findfont: Font family 'Noto Sans CJK JP' not found.\n",
            "WARNING:matplotlib.font_manager:findfont: Font family 'Noto Sans CJK JP' not found.\n",
            "WARNING:matplotlib.font_manager:findfont: Font family 'Noto Sans CJK JP' not found.\n",
            "WARNING:matplotlib.font_manager:findfont: Font family 'Noto Sans CJK JP' not found.\n",
            "WARNING:matplotlib.font_manager:findfont: Font family 'Noto Sans CJK JP' not found.\n",
            "WARNING:matplotlib.font_manager:findfont: Font family 'Noto Sans CJK JP' not found.\n",
            "WARNING:matplotlib.font_manager:findfont: Font family 'Noto Sans CJK JP' not found.\n",
            "WARNING:matplotlib.font_manager:findfont: Font family 'Noto Sans CJK JP' not found.\n",
            "WARNING:matplotlib.font_manager:findfont: Font family 'Noto Sans CJK JP' not found.\n",
            "WARNING:matplotlib.font_manager:findfont: Font family 'Noto Sans CJK JP' not found.\n",
            "WARNING:matplotlib.font_manager:findfont: Font family 'Noto Sans CJK JP' not found.\n",
            "WARNING:matplotlib.font_manager:findfont: Font family 'Noto Sans CJK JP' not found.\n",
            "WARNING:matplotlib.font_manager:findfont: Font family 'Noto Sans CJK JP' not found.\n",
            "WARNING:matplotlib.font_manager:findfont: Font family 'Noto Sans CJK JP' not found.\n",
            "WARNING:matplotlib.font_manager:findfont: Font family 'Noto Sans CJK JP' not found.\n",
            "WARNING:matplotlib.font_manager:findfont: Font family 'Noto Sans CJK JP' not found.\n",
            "WARNING:matplotlib.font_manager:findfont: Font family 'Noto Sans CJK JP' not found.\n",
            "WARNING:matplotlib.font_manager:findfont: Font family 'Noto Sans CJK JP' not found.\n",
            "WARNING:matplotlib.font_manager:findfont: Font family 'Noto Sans CJK JP' not found.\n",
            "WARNING:matplotlib.font_manager:findfont: Font family 'Noto Sans CJK JP' not found.\n",
            "WARNING:matplotlib.font_manager:findfont: Font family 'Noto Sans CJK JP' not found.\n",
            "WARNING:matplotlib.font_manager:findfont: Font family 'Noto Sans CJK JP' not found.\n",
            "WARNING:matplotlib.font_manager:findfont: Font family 'Noto Sans CJK JP' not found.\n",
            "WARNING:matplotlib.font_manager:findfont: Font family 'Noto Sans CJK JP' not found.\n",
            "WARNING:matplotlib.font_manager:findfont: Font family 'Noto Sans CJK JP' not found.\n",
            "WARNING:matplotlib.font_manager:findfont: Font family 'Noto Sans CJK JP' not found.\n",
            "WARNING:matplotlib.font_manager:findfont: Font family 'Noto Sans CJK JP' not found.\n",
            "WARNING:matplotlib.font_manager:findfont: Font family 'Noto Sans CJK JP' not found.\n"
          ]
        },
        {
          "output_type": "stream",
          "name": "stdout",
          "text": [
            "平均文書長: 40.16\n",
            "最長文書長: 405\n",
            "最短文書長: 13\n"
          ]
        },
        {
          "output_type": "stream",
          "name": "stderr",
          "text": [
            "WARNING:matplotlib.font_manager:findfont: Font family 'Noto Sans CJK JP' not found.\n",
            "WARNING:matplotlib.font_manager:findfont: Font family 'Noto Sans CJK JP' not found.\n",
            "WARNING:matplotlib.font_manager:findfont: Font family 'Noto Sans CJK JP' not found.\n",
            "WARNING:matplotlib.font_manager:findfont: Font family 'Noto Sans CJK JP' not found.\n",
            "WARNING:matplotlib.font_manager:findfont: Font family 'Noto Sans CJK JP' not found.\n",
            "WARNING:matplotlib.font_manager:findfont: Font family 'Noto Sans CJK JP' not found.\n",
            "WARNING:matplotlib.font_manager:findfont: Font family 'Noto Sans CJK JP' not found.\n",
            "WARNING:matplotlib.font_manager:findfont: Font family 'Noto Sans CJK JP' not found.\n",
            "WARNING:matplotlib.font_manager:findfont: Font family 'Noto Sans CJK JP' not found.\n"
          ]
        },
        {
          "output_type": "display_data",
          "data": {
            "text/plain": [
              "<Figure size 600x400 with 1 Axes>"
            ],
            "image/png": "[encoded data removed]"
          },
          "metadata": {}
        }
      ],
      "source": [
        "doc_lengths = [len(tokens) for tokens in tokenized_docs.values()]\n",
        "print(f\"平均文書長: {sum(doc_lengths)/len(doc_lengths):.2f}\")\n",
        "print(f\"最長文書長: {max(doc_lengths)}\")\n",
        "print(f\"最短文書長: {min(doc_lengths)}\")\n",
        "\n",
        "plt.figure(figsize=(6,4))\n",
        "plt.hist(doc_lengths, bins=20, edgecolor=\"black\")\n",
        "plt.title(\"文書長の分布\")\n",
        "plt.xlabel(\"トークン数\")\n",
        "plt.ylabel(\"頻度\")\n",
        "plt.tight_layout()\n",
        "plt.show()"
      ]
    },
    {
      "cell_type": "markdown",
      "id": "671f8a9a",
      "metadata": {
        "id": "671f8a9a"
      },
      "source": [
        "## 5. トークン頻度"
      ]
    },
    {
      "cell_type": "code",
      "execution_count": 12,
      "id": "e0ede0f2",
      "metadata": {
        "colab": {
          "base_uri": "https://localhost:8080/"
        },
        "id": "e0ede0f2",
        "outputId": "c7e66436-e48a-4f3d-d762-e46d8919ae0e"
      },
      "outputs": [
        {
          "output_type": "execute_result",
          "data": {
            "text/plain": [
              "[('、', 161),\n",
              " ('の', 116),\n",
              " ('を', 99),\n",
              " ('は', 59),\n",
              " ('に', 52),\n",
              " ('。', 49),\n",
              " ('権利', 37),\n",
              " ('及び', 35),\n",
              " ('人', 33),\n",
              " ('と', 32),\n",
              " ('する', 32),\n",
              " ('すべて', 31),\n",
              " ('有する', 29),\n",
              " ('こと', 26),\n",
              " ('条', 26),\n",
              " ('第', 25),\n",
              " ('\\u3000', 25),\n",
              " ('な', 25),\n",
              " ('自由', 23),\n",
              " ('又は', 22)]"
            ]
          },
          "metadata": {},
          "execution_count": 12
        }
      ],
      "source": [
        "all_tokens = list(itertools.chain.from_iterable(tokenized_docs.values()))\n",
        "freq = Counter(all_tokens)\n",
        "freq.most_common(20)"
      ]
    },
    {
      "cell_type": "code",
      "execution_count": 13,
      "id": "ee48107f",
      "metadata": {
        "colab": {
          "base_uri": "https://localhost:8080/",
          "height": 1000
        },
        "id": "ee48107f",
        "outputId": "278cd7df-f18e-46d1-aed1-3458767c1814"
      },
      "outputs": [
        {
          "output_type": "stream",
          "name": "stderr",
          "text": [
            "WARNING:matplotlib.font_manager:findfont: Font family 'Meiryo' not found.\n",
            "WARNING:matplotlib.font_manager:findfont: Font family 'Meiryo' not found.\n",
            "/tmp/ipython-input-2849929619.py:6: UserWarning: Glyph 12289 (\\N{IDEOGRAPHIC COMMA}) missing from font(s) DejaVu Sans.\n",
            "  plt.tight_layout()\n",
            "WARNING:matplotlib.font_manager:findfont: Font family 'Meiryo' not found.\n",
            "/tmp/ipython-input-2849929619.py:6: UserWarning: Glyph 12398 (\\N{HIRAGANA LETTER NO}) missing from font(s) DejaVu Sans.\n",
            "  plt.tight_layout()\n",
            "WARNING:matplotlib.font_manager:findfont: Font family 'Meiryo' not found.\n",
            "/tmp/ipython-input-2849929619.py:6: UserWarning: Glyph 12434 (\\N{HIRAGANA LETTER WO}) missing from font(s) DejaVu Sans.\n",
            "  plt.tight_layout()\n",
            "WARNING:matplotlib.font_manager:findfont: Font family 'Meiryo' not found.\n",
            "/tmp/ipython-input-2849929619.py:6: UserWarning: Glyph 12399 (\\N{HIRAGANA LETTER HA}) missing from font(s) DejaVu Sans.\n",
            "  plt.tight_layout()\n",
            "WARNING:matplotlib.font_manager:findfont: Font family 'Meiryo' not found.\n",
            "/tmp/ipython-input-2849929619.py:6: UserWarning: Glyph 12395 (\\N{HIRAGANA LETTER NI}) missing from font(s) DejaVu Sans.\n",
            "  plt.tight_layout()\n",
            "WARNING:matplotlib.font_manager:findfont: Font family 'Meiryo' not found.\n",
            "/tmp/ipython-input-2849929619.py:6: UserWarning: Glyph 12290 (\\N{IDEOGRAPHIC FULL STOP}) missing from font(s) DejaVu Sans.\n",
            "  plt.tight_layout()\n",
            "WARNING:matplotlib.font_manager:findfont: Font family 'Meiryo' not found.\n",
            "/tmp/ipython-input-2849929619.py:6: UserWarning: Glyph 27177 (\\N{CJK UNIFIED IDEOGRAPH-6A29}) missing from font(s) DejaVu Sans.\n",
            "  plt.tight_layout()\n",
            "/tmp/ipython-input-2849929619.py:6: UserWarning: Glyph 21033 (\\N{CJK UNIFIED IDEOGRAPH-5229}) missing from font(s) DejaVu Sans.\n",
            "  plt.tight_layout()\n",
            "WARNING:matplotlib.font_manager:findfont: Font family 'Meiryo' not found.\n",
            "/tmp/ipython-input-2849929619.py:6: UserWarning: Glyph 21450 (\\N{CJK UNIFIED IDEOGRAPH-53CA}) missing from font(s) DejaVu Sans.\n",
            "  plt.tight_layout()\n",
            "/tmp/ipython-input-2849929619.py:6: UserWarning: Glyph 12403 (\\N{HIRAGANA LETTER BI}) missing from font(s) DejaVu Sans.\n",
            "  plt.tight_layout()\n",
            "WARNING:matplotlib.font_manager:findfont: Font family 'Meiryo' not found.\n",
            "/tmp/ipython-input-2849929619.py:6: UserWarning: Glyph 20154 (\\N{CJK UNIFIED IDEOGRAPH-4EBA}) missing from font(s) DejaVu Sans.\n",
            "  plt.tight_layout()\n",
            "WARNING:matplotlib.font_manager:findfont: Font family 'Meiryo' not found.\n",
            "/tmp/ipython-input-2849929619.py:6: UserWarning: Glyph 12392 (\\N{HIRAGANA LETTER TO}) missing from font(s) DejaVu Sans.\n",
            "  plt.tight_layout()\n",
            "WARNING:matplotlib.font_manager:findfont: Font family 'Meiryo' not found.\n",
            "/tmp/ipython-input-2849929619.py:6: UserWarning: Glyph 12377 (\\N{HIRAGANA LETTER SU}) missing from font(s) DejaVu Sans.\n",
            "  plt.tight_layout()\n",
            "/tmp/ipython-input-2849929619.py:6: UserWarning: Glyph 12427 (\\N{HIRAGANA LETTER RU}) missing from font(s) DejaVu Sans.\n",
            "  plt.tight_layout()\n",
            "WARNING:matplotlib.font_manager:findfont: Font family 'Meiryo' not found.\n",
            "/tmp/ipython-input-2849929619.py:6: UserWarning: Glyph 12409 (\\N{HIRAGANA LETTER BE}) missing from font(s) DejaVu Sans.\n",
            "  plt.tight_layout()\n",
            "/tmp/ipython-input-2849929619.py:6: UserWarning: Glyph 12390 (\\N{HIRAGANA LETTER TE}) missing from font(s) DejaVu Sans.\n",
            "  plt.tight_layout()\n",
            "WARNING:matplotlib.font_manager:findfont: Font family 'Meiryo' not found.\n",
            "/tmp/ipython-input-2849929619.py:6: UserWarning: Glyph 26377 (\\N{CJK UNIFIED IDEOGRAPH-6709}) missing from font(s) DejaVu Sans.\n",
            "  plt.tight_layout()\n",
            "WARNING:matplotlib.font_manager:findfont: Font family 'Meiryo' not found.\n",
            "/tmp/ipython-input-2849929619.py:6: UserWarning: Glyph 12371 (\\N{HIRAGANA LETTER KO}) missing from font(s) DejaVu Sans.\n",
            "  plt.tight_layout()\n",
            "WARNING:matplotlib.font_manager:findfont: Font family 'Meiryo' not found.\n",
            "/tmp/ipython-input-2849929619.py:6: UserWarning: Glyph 26465 (\\N{CJK UNIFIED IDEOGRAPH-6761}) missing from font(s) DejaVu Sans.\n",
            "  plt.tight_layout()\n",
            "WARNING:matplotlib.font_manager:findfont: Font family 'Meiryo' not found.\n",
            "/tmp/ipython-input-2849929619.py:6: UserWarning: Glyph 31532 (\\N{CJK UNIFIED IDEOGRAPH-7B2C}) missing from font(s) DejaVu Sans.\n",
            "  plt.tight_layout()\n",
            "WARNING:matplotlib.font_manager:findfont: Font family 'Meiryo' not found.\n",
            "/tmp/ipython-input-2849929619.py:6: UserWarning: Glyph 12288 (\\N{IDEOGRAPHIC SPACE}) missing from font(s) DejaVu Sans.\n",
            "  plt.tight_layout()\n",
            "WARNING:matplotlib.font_manager:findfont: Font family 'Meiryo' not found.\n",
            "/tmp/ipython-input-2849929619.py:6: UserWarning: Glyph 12394 (\\N{HIRAGANA LETTER NA}) missing from font(s) DejaVu Sans.\n",
            "  plt.tight_layout()\n",
            "WARNING:matplotlib.font_manager:findfont: Font family 'Meiryo' not found.\n",
            "/tmp/ipython-input-2849929619.py:6: UserWarning: Glyph 33258 (\\N{CJK UNIFIED IDEOGRAPH-81EA}) missing from font(s) DejaVu Sans.\n",
            "  plt.tight_layout()\n",
            "/tmp/ipython-input-2849929619.py:6: UserWarning: Glyph 30001 (\\N{CJK UNIFIED IDEOGRAPH-7531}) missing from font(s) DejaVu Sans.\n",
            "  plt.tight_layout()\n",
            "WARNING:matplotlib.font_manager:findfont: Font family 'Meiryo' not found.\n",
            "/tmp/ipython-input-2849929619.py:6: UserWarning: Glyph 21448 (\\N{CJK UNIFIED IDEOGRAPH-53C8}) missing from font(s) DejaVu Sans.\n",
            "  plt.tight_layout()\n",
            "WARNING:matplotlib.font_manager:findfont: Font family 'Meiryo' not found.\n",
            "WARNING:matplotlib.font_manager:findfont: Font family 'Meiryo' not found.\n",
            "WARNING:matplotlib.font_manager:findfont: Font family 'Meiryo' not found.\n",
            "WARNING:matplotlib.font_manager:findfont: Font family 'Meiryo' not found.\n",
            "WARNING:matplotlib.font_manager:findfont: Font family 'Meiryo' not found.\n",
            "WARNING:matplotlib.font_manager:findfont: Font family 'Meiryo' not found.\n",
            "WARNING:matplotlib.font_manager:findfont: Font family 'Meiryo' not found.\n",
            "WARNING:matplotlib.font_manager:findfont: Font family 'Meiryo' not found.\n",
            "WARNING:matplotlib.font_manager:findfont: Font family 'Meiryo' not found.\n",
            "WARNING:matplotlib.font_manager:findfont: Font family 'Meiryo' not found.\n",
            "WARNING:matplotlib.font_manager:findfont: Font family 'Meiryo' not found.\n",
            "/tmp/ipython-input-2849929619.py:6: UserWarning: Glyph 38971 (\\N{CJK UNIFIED IDEOGRAPH-983B}) missing from font(s) DejaVu Sans.\n",
            "  plt.tight_layout()\n",
            "/tmp/ipython-input-2849929619.py:6: UserWarning: Glyph 20986 (\\N{CJK UNIFIED IDEOGRAPH-51FA}) missing from font(s) DejaVu Sans.\n",
            "  plt.tight_layout()\n",
            "/tmp/ipython-input-2849929619.py:6: UserWarning: Glyph 35486 (\\N{CJK UNIFIED IDEOGRAPH-8A9E}) missing from font(s) DejaVu Sans.\n",
            "  plt.tight_layout()\n",
            "/tmp/ipython-input-2849929619.py:6: UserWarning: Glyph 12488 (\\N{KATAKANA LETTER TO}) missing from font(s) DejaVu Sans.\n",
            "  plt.tight_layout()\n",
            "/tmp/ipython-input-2849929619.py:6: UserWarning: Glyph 12483 (\\N{KATAKANA LETTER SMALL TU}) missing from font(s) DejaVu Sans.\n",
            "  plt.tight_layout()\n",
            "/tmp/ipython-input-2849929619.py:6: UserWarning: Glyph 12503 (\\N{KATAKANA LETTER PU}) missing from font(s) DejaVu Sans.\n",
            "  plt.tight_layout()\n",
            "WARNING:matplotlib.font_manager:findfont: Font family 'Meiryo' not found.\n",
            "WARNING:matplotlib.font_manager:findfont: Font family 'Meiryo' not found.\n",
            "WARNING:matplotlib.font_manager:findfont: Font family 'Meiryo' not found.\n",
            "WARNING:matplotlib.font_manager:findfont: Font family 'Meiryo' not found.\n",
            "WARNING:matplotlib.font_manager:findfont: Font family 'Meiryo' not found.\n",
            "WARNING:matplotlib.font_manager:findfont: Font family 'Meiryo' not found.\n",
            "WARNING:matplotlib.font_manager:findfont: Font family 'Meiryo' not found.\n",
            "WARNING:matplotlib.font_manager:findfont: Font family 'Meiryo' not found.\n",
            "WARNING:matplotlib.font_manager:findfont: Font family 'Meiryo' not found.\n",
            "WARNING:matplotlib.font_manager:findfont: Font family 'Meiryo' not found.\n",
            "WARNING:matplotlib.font_manager:findfont: Font family 'Meiryo' not found.\n",
            "WARNING:matplotlib.font_manager:findfont: Font family 'Meiryo' not found.\n",
            "/usr/local/lib/python3.12/dist-packages/IPython/core/pylabtools.py:151: UserWarning: Glyph 20986 (\\N{CJK UNIFIED IDEOGRAPH-51FA}) missing from font(s) DejaVu Sans.\n",
            "  fig.canvas.print_figure(bytes_io, **kw)\n",
            "/usr/local/lib/python3.12/dist-packages/IPython/core/pylabtools.py:151: UserWarning: Glyph 35486 (\\N{CJK UNIFIED IDEOGRAPH-8A9E}) missing from font(s) DejaVu Sans.\n",
            "  fig.canvas.print_figure(bytes_io, **kw)\n",
            "/usr/local/lib/python3.12/dist-packages/IPython/core/pylabtools.py:151: UserWarning: Glyph 12483 (\\N{KATAKANA LETTER SMALL TU}) missing from font(s) DejaVu Sans.\n",
            "  fig.canvas.print_figure(bytes_io, **kw)\n",
            "/usr/local/lib/python3.12/dist-packages/IPython/core/pylabtools.py:151: UserWarning: Glyph 12503 (\\N{KATAKANA LETTER PU}) missing from font(s) DejaVu Sans.\n",
            "  fig.canvas.print_figure(bytes_io, **kw)\n",
            "WARNING:matplotlib.font_manager:findfont: Font family 'Meiryo' not found.\n",
            "/usr/local/lib/python3.12/dist-packages/IPython/core/pylabtools.py:151: UserWarning: Glyph 12289 (\\N{IDEOGRAPHIC COMMA}) missing from font(s) DejaVu Sans.\n",
            "  fig.canvas.print_figure(bytes_io, **kw)\n",
            "WARNING:matplotlib.font_manager:findfont: Font family 'Meiryo' not found.\n",
            "WARNING:matplotlib.font_manager:findfont: Font family 'Meiryo' not found.\n",
            "/usr/local/lib/python3.12/dist-packages/IPython/core/pylabtools.py:151: UserWarning: Glyph 12434 (\\N{HIRAGANA LETTER WO}) missing from font(s) DejaVu Sans.\n",
            "  fig.canvas.print_figure(bytes_io, **kw)\n",
            "WARNING:matplotlib.font_manager:findfont: Font family 'Meiryo' not found.\n",
            "/usr/local/lib/python3.12/dist-packages/IPython/core/pylabtools.py:151: UserWarning: Glyph 12399 (\\N{HIRAGANA LETTER HA}) missing from font(s) DejaVu Sans.\n",
            "  fig.canvas.print_figure(bytes_io, **kw)\n",
            "WARNING:matplotlib.font_manager:findfont: Font family 'Meiryo' not found.\n",
            "/usr/local/lib/python3.12/dist-packages/IPython/core/pylabtools.py:151: UserWarning: Glyph 12395 (\\N{HIRAGANA LETTER NI}) missing from font(s) DejaVu Sans.\n",
            "  fig.canvas.print_figure(bytes_io, **kw)\n",
            "WARNING:matplotlib.font_manager:findfont: Font family 'Meiryo' not found.\n",
            "/usr/local/lib/python3.12/dist-packages/IPython/core/pylabtools.py:151: UserWarning: Glyph 12290 (\\N{IDEOGRAPHIC FULL STOP}) missing from font(s) DejaVu Sans.\n",
            "  fig.canvas.print_figure(bytes_io, **kw)\n",
            "WARNING:matplotlib.font_manager:findfont: Font family 'Meiryo' not found.\n",
            "/usr/local/lib/python3.12/dist-packages/IPython/core/pylabtools.py:151: UserWarning: Glyph 27177 (\\N{CJK UNIFIED IDEOGRAPH-6A29}) missing from font(s) DejaVu Sans.\n",
            "  fig.canvas.print_figure(bytes_io, **kw)\n",
            "/usr/local/lib/python3.12/dist-packages/IPython/core/pylabtools.py:151: UserWarning: Glyph 21033 (\\N{CJK UNIFIED IDEOGRAPH-5229}) missing from font(s) DejaVu Sans.\n",
            "  fig.canvas.print_figure(bytes_io, **kw)\n",
            "WARNING:matplotlib.font_manager:findfont: Font family 'Meiryo' not found.\n",
            "/usr/local/lib/python3.12/dist-packages/IPython/core/pylabtools.py:151: UserWarning: Glyph 21450 (\\N{CJK UNIFIED IDEOGRAPH-53CA}) missing from font(s) DejaVu Sans.\n",
            "  fig.canvas.print_figure(bytes_io, **kw)\n",
            "/usr/local/lib/python3.12/dist-packages/IPython/core/pylabtools.py:151: UserWarning: Glyph 12403 (\\N{HIRAGANA LETTER BI}) missing from font(s) DejaVu Sans.\n",
            "  fig.canvas.print_figure(bytes_io, **kw)\n",
            "WARNING:matplotlib.font_manager:findfont: Font family 'Meiryo' not found.\n",
            "/usr/local/lib/python3.12/dist-packages/IPython/core/pylabtools.py:151: UserWarning: Glyph 20154 (\\N{CJK UNIFIED IDEOGRAPH-4EBA}) missing from font(s) DejaVu Sans.\n",
            "  fig.canvas.print_figure(bytes_io, **kw)\n",
            "WARNING:matplotlib.font_manager:findfont: Font family 'Meiryo' not found.\n",
            "/usr/local/lib/python3.12/dist-packages/IPython/core/pylabtools.py:151: UserWarning: Glyph 12392 (\\N{HIRAGANA LETTER TO}) missing from font(s) DejaVu Sans.\n",
            "  fig.canvas.print_figure(bytes_io, **kw)\n",
            "WARNING:matplotlib.font_manager:findfont: Font family 'Meiryo' not found.\n",
            "/usr/local/lib/python3.12/dist-packages/IPython/core/pylabtools.py:151: UserWarning: Glyph 12377 (\\N{HIRAGANA LETTER SU}) missing from font(s) DejaVu Sans.\n",
            "  fig.canvas.print_figure(bytes_io, **kw)\n",
            "/usr/local/lib/python3.12/dist-packages/IPython/core/pylabtools.py:151: UserWarning: Glyph 12427 (\\N{HIRAGANA LETTER RU}) missing from font(s) DejaVu Sans.\n",
            "  fig.canvas.print_figure(bytes_io, **kw)\n",
            "WARNING:matplotlib.font_manager:findfont: Font family 'Meiryo' not found.\n",
            "/usr/local/lib/python3.12/dist-packages/IPython/core/pylabtools.py:151: UserWarning: Glyph 12409 (\\N{HIRAGANA LETTER BE}) missing from font(s) DejaVu Sans.\n",
            "  fig.canvas.print_figure(bytes_io, **kw)\n",
            "/usr/local/lib/python3.12/dist-packages/IPython/core/pylabtools.py:151: UserWarning: Glyph 12390 (\\N{HIRAGANA LETTER TE}) missing from font(s) DejaVu Sans.\n",
            "  fig.canvas.print_figure(bytes_io, **kw)\n",
            "WARNING:matplotlib.font_manager:findfont: Font family 'Meiryo' not found.\n",
            "/usr/local/lib/python3.12/dist-packages/IPython/core/pylabtools.py:151: UserWarning: Glyph 26377 (\\N{CJK UNIFIED IDEOGRAPH-6709}) missing from font(s) DejaVu Sans.\n",
            "  fig.canvas.print_figure(bytes_io, **kw)\n",
            "WARNING:matplotlib.font_manager:findfont: Font family 'Meiryo' not found.\n",
            "/usr/local/lib/python3.12/dist-packages/IPython/core/pylabtools.py:151: UserWarning: Glyph 12371 (\\N{HIRAGANA LETTER KO}) missing from font(s) DejaVu Sans.\n",
            "  fig.canvas.print_figure(bytes_io, **kw)\n",
            "WARNING:matplotlib.font_manager:findfont: Font family 'Meiryo' not found.\n",
            "/usr/local/lib/python3.12/dist-packages/IPython/core/pylabtools.py:151: UserWarning: Glyph 26465 (\\N{CJK UNIFIED IDEOGRAPH-6761}) missing from font(s) DejaVu Sans.\n",
            "  fig.canvas.print_figure(bytes_io, **kw)\n",
            "WARNING:matplotlib.font_manager:findfont: Font family 'Meiryo' not found.\n",
            "/usr/local/lib/python3.12/dist-packages/IPython/core/pylabtools.py:151: UserWarning: Glyph 31532 (\\N{CJK UNIFIED IDEOGRAPH-7B2C}) missing from font(s) DejaVu Sans.\n",
            "  fig.canvas.print_figure(bytes_io, **kw)\n",
            "WARNING:matplotlib.font_manager:findfont: Font family 'Meiryo' not found.\n",
            "/usr/local/lib/python3.12/dist-packages/IPython/core/pylabtools.py:151: UserWarning: Glyph 12288 (\\N{IDEOGRAPHIC SPACE}) missing from font(s) DejaVu Sans.\n",
            "  fig.canvas.print_figure(bytes_io, **kw)\n",
            "WARNING:matplotlib.font_manager:findfont: Font family 'Meiryo' not found.\n",
            "/usr/local/lib/python3.12/dist-packages/IPython/core/pylabtools.py:151: UserWarning: Glyph 12394 (\\N{HIRAGANA LETTER NA}) missing from font(s) DejaVu Sans.\n",
            "  fig.canvas.print_figure(bytes_io, **kw)\n",
            "WARNING:matplotlib.font_manager:findfont: Font family 'Meiryo' not found.\n",
            "/usr/local/lib/python3.12/dist-packages/IPython/core/pylabtools.py:151: UserWarning: Glyph 33258 (\\N{CJK UNIFIED IDEOGRAPH-81EA}) missing from font(s) DejaVu Sans.\n",
            "  fig.canvas.print_figure(bytes_io, **kw)\n",
            "/usr/local/lib/python3.12/dist-packages/IPython/core/pylabtools.py:151: UserWarning: Glyph 30001 (\\N{CJK UNIFIED IDEOGRAPH-7531}) missing from font(s) DejaVu Sans.\n",
            "  fig.canvas.print_figure(bytes_io, **kw)\n",
            "WARNING:matplotlib.font_manager:findfont: Font family 'Meiryo' not found.\n",
            "/usr/local/lib/python3.12/dist-packages/IPython/core/pylabtools.py:151: UserWarning: Glyph 21448 (\\N{CJK UNIFIED IDEOGRAPH-53C8}) missing from font(s) DejaVu Sans.\n",
            "  fig.canvas.print_figure(bytes_io, **kw)\n",
            "WARNING:matplotlib.font_manager:findfont: Font family 'Meiryo' not found.\n",
            "WARNING:matplotlib.font_manager:findfont: Font family 'Meiryo' not found.\n",
            "WARNING:matplotlib.font_manager:findfont: Font family 'Meiryo' not found.\n",
            "WARNING:matplotlib.font_manager:findfont: Font family 'Meiryo' not found.\n",
            "WARNING:matplotlib.font_manager:findfont: Font family 'Meiryo' not found.\n",
            "WARNING:matplotlib.font_manager:findfont: Font family 'Meiryo' not found.\n",
            "WARNING:matplotlib.font_manager:findfont: Font family 'Meiryo' not found.\n",
            "WARNING:matplotlib.font_manager:findfont: Font family 'Meiryo' not found.\n",
            "WARNING:matplotlib.font_manager:findfont: Font family 'Meiryo' not found.\n",
            "WARNING:matplotlib.font_manager:findfont: Font family 'Meiryo' not found.\n",
            "WARNING:matplotlib.font_manager:findfont: Font family 'Meiryo' not found.\n",
            "WARNING:matplotlib.font_manager:findfont: Font family 'Meiryo' not found.\n",
            "WARNING:matplotlib.font_manager:findfont: Font family 'Meiryo' not found.\n",
            "WARNING:matplotlib.font_manager:findfont: Font family 'Meiryo' not found.\n",
            "WARNING:matplotlib.font_manager:findfont: Font family 'Meiryo' not found.\n",
            "WARNING:matplotlib.font_manager:findfont: Font family 'Meiryo' not found.\n",
            "WARNING:matplotlib.font_manager:findfont: Font family 'Meiryo' not found.\n",
            "WARNING:matplotlib.font_manager:findfont: Font family 'Meiryo' not found.\n",
            "WARNING:matplotlib.font_manager:findfont: Font family 'Meiryo' not found.\n",
            "WARNING:matplotlib.font_manager:findfont: Font family 'Meiryo' not found.\n",
            "WARNING:matplotlib.font_manager:findfont: Font family 'Meiryo' not found.\n",
            "WARNING:matplotlib.font_manager:findfont: Font family 'Meiryo' not found.\n",
            "WARNING:matplotlib.font_manager:findfont: Font family 'Meiryo' not found.\n",
            "WARNING:matplotlib.font_manager:findfont: Font family 'Meiryo' not found.\n",
            "WARNING:matplotlib.font_manager:findfont: Font family 'Meiryo' not found.\n",
            "WARNING:matplotlib.font_manager:findfont: Font family 'Meiryo' not found.\n",
            "WARNING:matplotlib.font_manager:findfont: Font family 'Meiryo' not found.\n",
            "WARNING:matplotlib.font_manager:findfont: Font family 'Meiryo' not found.\n",
            "WARNING:matplotlib.font_manager:findfont: Font family 'Meiryo' not found.\n",
            "WARNING:matplotlib.font_manager:findfont: Font family 'Meiryo' not found.\n"
          ]
        },
        {
          "output_type": "display_data",
          "data": {
            "text/plain": [
              "<Figure size 800x400 with 1 Axes>"
            ],
            "image/png": "[encoded data removed]"
          },
          "metadata": {}
        }
      ],
      "source": [
        "labels, values = zip(*freq.most_common(20))\n",
        "plt.figure(figsize=(8,4))\n",
        "plt.bar(labels, values)\n",
        "plt.title(\"頻出語トップ20\")\n",
        "plt.xticks(rotation=45, ha=\"right\")\n",
        "plt.tight_layout()\n",
        "plt.show()"
      ]
    },
    {
      "cell_type": "markdown",
      "id": "9cbf6df2",
      "metadata": {
        "id": "9cbf6df2"
      },
      "source": [
        "## 6. Zipfの法則"
      ]
    },
    {
      "cell_type": "code",
      "execution_count": null,
      "id": "d6fd39d8",
      "metadata": {
        "id": "d6fd39d8"
      },
      "outputs": [],
      "source": [
        "sorted_counts = [c for _, c in freq.most_common()]\n",
        "ranks = range(1, len(sorted_counts)+1)\n",
        "\n",
        "plt.figure(figsize=(6,4))\n",
        "plt.loglog(ranks, sorted_counts, marker=\".\", linewidth=0)\n",
        "plt.title(\"Zipfの法則（順位 vs 頻度 / log-log）\")\n",
        "plt.xlabel(\"順位 (log)\")\n",
        "plt.ylabel(\"頻度 (log)\")\n",
        "plt.tight_layout()\n",
        "plt.show()"
      ]
    },
    {
      "cell_type": "markdown",
      "id": "f4199f29",
      "metadata": {
        "id": "f4199f29"
      },
      "source": [
        "## 7. Biword（連接2語）"
      ]
    },
    {
      "cell_type": "code",
      "execution_count": null,
      "id": "c931c0a6",
      "metadata": {
        "id": "c931c0a6"
      },
      "outputs": [],
      "source": [
        "def biwords(tokens):\n",
        "    return [f\"{a} {b}\" for a, b in zip(tokens, tokens[1:])]\n",
        "\n",
        "all_bi = list(itertools.chain.from_iterable(biwords(tokens) for tokens in tokenized_docs.values()))\n",
        "bi_freq = Counter(all_bi)\n",
        "bi_freq.most_common(20)"
      ]
    },
    {
      "cell_type": "code",
      "execution_count": null,
      "id": "e08ea33c",
      "metadata": {
        "id": "e08ea33c"
      },
      "outputs": [],
      "source": [
        "labels, values = zip(*bi_freq.most_common(20))\n",
        "plt.figure(figsize=(8,4))\n",
        "plt.bar(labels, values)\n",
        "plt.title(\"Biword頻度トップ20\")\n",
        "plt.xticks(rotation=45, ha=\"right\")\n",
        "plt.tight_layout()\n",
        "plt.show()"
      ]
    },
    {
      "cell_type": "markdown",
      "id": "2d7005ac",
      "metadata": {
        "id": "2d7005ac"
      },
      "source": [
        "## 8. まとめ\n",
        "- UDHR日本語版全文を対象に、品詞制限なしでトークン化を実施。\n",
        "- 文書長分布、頻度上位語、Zipfの法則、Biword頻度を確認。\n",
        "- 英語EDAと同様の流れで、日本語コーパスにおける基本的な分布特性を把握。"
      ]
    }
  ],
  "metadata": {
    "language_info": {
      "name": "python"
    },
    "colab": {
      "provenance": []
    },
    "kernelspec": {
      "name": "python3",
      "display_name": "Python 3"
    }
  },
  "nbformat": 4,
  "nbformat_minor": 5
}